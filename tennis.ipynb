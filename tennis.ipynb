{
 "metadata": {
  "name": "",
  "signature": "sha256:e92a561e5706804e670fee6b3c53ae19fe246183111ef53162d4c3a032bb1b87"
 },
 "nbformat": 3,
 "nbformat_minor": 0,
 "worksheets": [
  {
   "cells": [
    {
     "cell_type": "code",
     "collapsed": false,
     "input": [
      "%matplotlib inline"
     ],
     "language": "python",
     "metadata": {},
     "outputs": [],
     "prompt_number": 2
    },
    {
     "cell_type": "code",
     "collapsed": false,
     "input": [
      "from requests import get\n",
      "from bs4 import BeautifulSoup \n",
      "import re\n",
      "import pandas as pd\n",
      "import numpy as np\n",
      "import matplotlib.pyplot as plt\n",
      "from pattern import web\n",
      "from urlparse import urljoin\n",
      "from toolz import frequencies"
     ],
     "language": "python",
     "metadata": {},
     "outputs": [],
     "prompt_number": 3
    },
    {
     "cell_type": "markdown",
     "metadata": {},
     "source": [
      "While watching some FrenhOpen tennis I got curious about the differnece in rally lenght of the men's and women's games. A rally is the sequence of back and forth before a point is one. My hypothesis was that women's rally length would be longer based on my naive observation while watching the games. As it turns out I was wrong. Skip to the plot to see the results. I'll disclaim that I'm the must casual tennis fan anf the things I'm about say might be very obvious to an even moderate fan."
     ]
    },
    {
     "cell_type": "markdown",
     "metadata": {},
     "source": [
      "I couldn't find any data that had the rally length in a nice 'tidy' format so I kept looking and it turns out that the people charting the games at Tennisabstract.com [www.tennisabstract.com/charting/] actaully record the rally length in the point by point decription.\n",
      "\n",
      "So I decided to scrap the rally length data for the women and men's games roughly 850 games and plot the frequencies nside by side. Happily the number of men's and women's (457, 433 reapectively) games charted are about the same. This I decided should give me some idea of the difference in the rally lengths. Below is a the plot that show the comparison. \n",
      "\n",
      "A rally starts at the serve and continues with the return and the consecutive shots that follow. First I noted that a rally must begin at 4 shots ( including serve and return) since there aren't any lengths recorded shorted that.\n",
      "\n",
      "The red bars is the rally lenths of the mens games and yellow for women. The eye test says that the distributions are similar and that their is a significant difference in the rally lenghts. Now "
     ]
    },
    {
     "cell_type": "code",
     "collapsed": false,
     "input": [
      "BASE_URL = 'http://www.tennisabstract.com/charting/'\n",
      "# pattern to clean the html we need \n",
      "pattern = re.compile(r'var pointlog =.*</table>') \n",
      " \n",
      "def get_links():\n",
      "    # get all games links\n",
      "    WTA = []\n",
      "    ATP = []\n",
      "    base_html = get(BASE_URL).text\n",
      "    element = web.Element(base_html)\n",
      "    links = [(link.attr['href'], link.content) for link in element.by_tag('a')]\n",
      "    for _, text in links:\n",
      "        if \"WTA\" in text:\n",
      "            WTA.append(link)\n",
      "        elif \"ATP\" in text:\n",
      "            ATP.append(link)\n",
      "    return WTA, ATP\n",
      "    \n",
      "def get_html(links):\n",
      "    # take links and return their source \n",
      "    for link in links:\n",
      "        linker = urljoin(BASE_URL, link)\n",
      "        yield requests.get(linker).text\n",
      "\n",
      "def cleaner_html(htmls):\n",
      "    for html in htmls:\n",
      "        try: \n",
      "            yield BeautifulSoup(re.findall(pattern, html)[0])\n",
      "        except IndexError:\n",
      "            continue\n",
      "            \n",
      "def text_write(soup, gender):\n",
      "    with open(str(gender)+'tennis.txt', 'wb') as f:\n",
      "        for source in soup:\n",
      "            for line in source.findAll('td'):\n",
      "                f.write(line.text.encode('utf-8'))\n"
     ],
     "language": "python",
     "metadata": {},
     "outputs": [],
     "prompt_number": 19
    },
    {
     "cell_type": "code",
     "collapsed": false,
     "input": [
      "# get urls\n",
      "wtp, atp = get_links()"
     ],
     "language": "python",
     "metadata": {},
     "outputs": [],
     "prompt_number": 20
    },
    {
     "cell_type": "code",
     "collapsed": false,
     "input": [
      "mens_html = get_html(atp)\n",
      "clean_mens = cleaner_html(mens_html)\n",
      "women_html = get_html(wtp)\n",
      "clean_womens = cleaner_html(women_html)"
     ],
     "language": "python",
     "metadata": {},
     "outputs": [],
     "prompt_number": 265
    },
    {
     "cell_type": "code",
     "collapsed": false,
     "input": [
      "text_write(clean_mens, \"MEN\")\n",
      "text_write(clean_womens, \"WOMEN\")"
     ],
     "language": "python",
     "metadata": {},
     "outputs": [],
     "prompt_number": 125
    },
    {
     "cell_type": "markdown",
     "metadata": {},
     "source": [
      "Do a little command line work to get the actually rally numbers"
     ]
    },
    {
     "cell_type": "code",
     "collapsed": false,
     "input": [
      "rally_list = !grep -oh '[0-9]*-shot rally' MENtennis.txt | awk -F \"-\" '{print $1}' \n",
      "rally_list_n = [int(x) for x in rally_list if x !='']"
     ],
     "language": "python",
     "metadata": {},
     "outputs": [],
     "prompt_number": 36
    },
    {
     "cell_type": "markdown",
     "metadata": {},
     "source": [
      "Do the same thing for the women games. "
     ]
    },
    {
     "cell_type": "code",
     "collapsed": false,
     "input": [
      "wm_rally_list = !grep -oh '[0-9]*-shot rally' WOMENtennis.txt | awk -F \"-\" '{print $1}' \n",
      "wm_rally_list_n = [int(x) for x in wm_rally_list if x !='']"
     ],
     "language": "python",
     "metadata": {},
     "outputs": [],
     "prompt_number": 88
    },
    {
     "cell_type": "code",
     "collapsed": false,
     "input": [
      "# getnumber of rallies by men and men\n",
      "num_rec_men = len(rally_list_n)\n",
      "num_rec_women = len(wm_rally_list_n)\n",
      "print 'Number of recorded rallies for Men: %s' %num_rec_men\n",
      "print 'Number of recorded rallies for Women: %s' %num_rec_women"
     ],
     "language": "python",
     "metadata": {},
     "outputs": [
      {
       "output_type": "stream",
       "stream": "stdout",
       "text": [
        "Number of recorded rallies for Men: 17742\n",
        "Number of recorded rallies for Women: 17188\n"
       ]
      }
     ],
     "prompt_number": 92
    },
    {
     "cell_type": "code",
     "collapsed": false,
     "input": [
      "# GET RALLY FREQUENCIES.\n",
      "height,point = frequencies(rally_list_n).values(),  frequencies(rally_list_n).keys()\n",
      "wm_height,wm_point = frequencies(wm_rally_list_n).values(),  frequencies(wm_rally_list_n).keys()"
     ],
     "language": "python",
     "metadata": {},
     "outputs": [],
     "prompt_number": 38
    },
    {
     "cell_type": "code",
     "collapsed": false,
     "input": [
      "# build A rally frequencies dataframe\n",
      "rally_df = pd.DataFrame([height, wm_height[1:]]).T\n",
      "rally_df.index= point\n",
      "rally_df.columns = ['Men', 'Women']"
     ],
     "language": "python",
     "metadata": {},
     "outputs": [],
     "prompt_number": 39
    },
    {
     "cell_type": "code",
     "collapsed": false,
     "input": [
      "rally_df"
     ],
     "language": "python",
     "metadata": {},
     "outputs": [
      {
       "html": [
        "<div style=\"max-width:1500px;overflow:auto;\">\n",
        "<table border=\"1\" class=\"dataframe\">\n",
        "  <thead>\n",
        "    <tr style=\"text-align: right;\">\n",
        "      <th></th>\n",
        "      <th>Men</th>\n",
        "      <th>Women</th>\n",
        "    </tr>\n",
        "  </thead>\n",
        "  <tbody>\n",
        "    <tr>\n",
        "      <th>4</th>\n",
        "      <td>3485</td>\n",
        "      <td>3780</td>\n",
        "    </tr>\n",
        "    <tr>\n",
        "      <th>5</th>\n",
        "      <td>3514</td>\n",
        "      <td>3288</td>\n",
        "    </tr>\n",
        "    <tr>\n",
        "      <th>6</th>\n",
        "      <td>2162</td>\n",
        "      <td>2464</td>\n",
        "    </tr>\n",
        "    <tr>\n",
        "      <th>7</th>\n",
        "      <td>2018</td>\n",
        "      <td>1942</td>\n",
        "    </tr>\n",
        "    <tr>\n",
        "      <th>8</th>\n",
        "      <td>1508</td>\n",
        "      <td>1449</td>\n",
        "    </tr>\n",
        "    <tr>\n",
        "      <th>9</th>\n",
        "      <td>1076</td>\n",
        "      <td>1046</td>\n",
        "    </tr>\n",
        "    <tr>\n",
        "      <th>10</th>\n",
        "      <td>873</td>\n",
        "      <td>808</td>\n",
        "    </tr>\n",
        "    <tr>\n",
        "      <th>11</th>\n",
        "      <td>654</td>\n",
        "      <td>674</td>\n",
        "    </tr>\n",
        "    <tr>\n",
        "      <th>12</th>\n",
        "      <td>550</td>\n",
        "      <td>478</td>\n",
        "    </tr>\n",
        "    <tr>\n",
        "      <th>13</th>\n",
        "      <td>444</td>\n",
        "      <td>349</td>\n",
        "    </tr>\n",
        "    <tr>\n",
        "      <th>14</th>\n",
        "      <td>309</td>\n",
        "      <td>224</td>\n",
        "    </tr>\n",
        "    <tr>\n",
        "      <th>15</th>\n",
        "      <td>256</td>\n",
        "      <td>192</td>\n",
        "    </tr>\n",
        "    <tr>\n",
        "      <th>16</th>\n",
        "      <td>207</td>\n",
        "      <td>156</td>\n",
        "    </tr>\n",
        "    <tr>\n",
        "      <th>17</th>\n",
        "      <td>126</td>\n",
        "      <td>118</td>\n",
        "    </tr>\n",
        "    <tr>\n",
        "      <th>18</th>\n",
        "      <td>124</td>\n",
        "      <td>65</td>\n",
        "    </tr>\n",
        "    <tr>\n",
        "      <th>19</th>\n",
        "      <td>88</td>\n",
        "      <td>34</td>\n",
        "    </tr>\n",
        "    <tr>\n",
        "      <th>20</th>\n",
        "      <td>76</td>\n",
        "      <td>34</td>\n",
        "    </tr>\n",
        "    <tr>\n",
        "      <th>21</th>\n",
        "      <td>52</td>\n",
        "      <td>22</td>\n",
        "    </tr>\n",
        "    <tr>\n",
        "      <th>22</th>\n",
        "      <td>37</td>\n",
        "      <td>31</td>\n",
        "    </tr>\n",
        "    <tr>\n",
        "      <th>23</th>\n",
        "      <td>50</td>\n",
        "      <td>14</td>\n",
        "    </tr>\n",
        "    <tr>\n",
        "      <th>24</th>\n",
        "      <td>15</td>\n",
        "      <td>4</td>\n",
        "    </tr>\n",
        "    <tr>\n",
        "      <th>25</th>\n",
        "      <td>32</td>\n",
        "      <td>3</td>\n",
        "    </tr>\n",
        "    <tr>\n",
        "      <th>26</th>\n",
        "      <td>19</td>\n",
        "      <td>6</td>\n",
        "    </tr>\n",
        "    <tr>\n",
        "      <th>27</th>\n",
        "      <td>22</td>\n",
        "      <td>2</td>\n",
        "    </tr>\n",
        "    <tr>\n",
        "      <th>28</th>\n",
        "      <td>6</td>\n",
        "      <td>2</td>\n",
        "    </tr>\n",
        "    <tr>\n",
        "      <th>29</th>\n",
        "      <td>9</td>\n",
        "      <td>2</td>\n",
        "    </tr>\n",
        "    <tr>\n",
        "      <th>30</th>\n",
        "      <td>10</td>\n",
        "      <td>NaN</td>\n",
        "    </tr>\n",
        "    <tr>\n",
        "      <th>31</th>\n",
        "      <td>2</td>\n",
        "      <td>NaN</td>\n",
        "    </tr>\n",
        "    <tr>\n",
        "      <th>32</th>\n",
        "      <td>3</td>\n",
        "      <td>NaN</td>\n",
        "    </tr>\n",
        "    <tr>\n",
        "      <th>33</th>\n",
        "      <td>4</td>\n",
        "      <td>NaN</td>\n",
        "    </tr>\n",
        "    <tr>\n",
        "      <th>34</th>\n",
        "      <td>2</td>\n",
        "      <td>NaN</td>\n",
        "    </tr>\n",
        "    <tr>\n",
        "      <th>35</th>\n",
        "      <td>2</td>\n",
        "      <td>NaN</td>\n",
        "    </tr>\n",
        "    <tr>\n",
        "      <th>36</th>\n",
        "      <td>2</td>\n",
        "      <td>NaN</td>\n",
        "    </tr>\n",
        "    <tr>\n",
        "      <th>37</th>\n",
        "      <td>1</td>\n",
        "      <td>NaN</td>\n",
        "    </tr>\n",
        "    <tr>\n",
        "      <th>40</th>\n",
        "      <td>1</td>\n",
        "      <td>NaN</td>\n",
        "    </tr>\n",
        "    <tr>\n",
        "      <th>41</th>\n",
        "      <td>2</td>\n",
        "      <td>NaN</td>\n",
        "    </tr>\n",
        "    <tr>\n",
        "      <th>46</th>\n",
        "      <td>1</td>\n",
        "      <td>NaN</td>\n",
        "    </tr>\n",
        "  </tbody>\n",
        "</table>\n",
        "</div>"
       ],
       "metadata": {},
       "output_type": "pyout",
       "prompt_number": 40,
       "text": [
        "     Men  Women\n",
        "4   3485   3780\n",
        "5   3514   3288\n",
        "6   2162   2464\n",
        "7   2018   1942\n",
        "8   1508   1449\n",
        "9   1076   1046\n",
        "10   873    808\n",
        "11   654    674\n",
        "12   550    478\n",
        "13   444    349\n",
        "14   309    224\n",
        "15   256    192\n",
        "16   207    156\n",
        "17   126    118\n",
        "18   124     65\n",
        "19    88     34\n",
        "20    76     34\n",
        "21    52     22\n",
        "22    37     31\n",
        "23    50     14\n",
        "24    15      4\n",
        "25    32      3\n",
        "26    19      6\n",
        "27    22      2\n",
        "28     6      2\n",
        "29     9      2\n",
        "30    10    NaN\n",
        "31     2    NaN\n",
        "32     3    NaN\n",
        "33     4    NaN\n",
        "34     2    NaN\n",
        "35     2    NaN\n",
        "36     2    NaN\n",
        "37     1    NaN\n",
        "40     1    NaN\n",
        "41     2    NaN\n",
        "46     1    NaN"
       ]
      }
     ],
     "prompt_number": 40
    },
    {
     "cell_type": "markdown",
     "metadata": {},
     "source": [
      "How do we handle the nan's here? forn sure up to the there are enough 30-shot rshot rally lengths on the mens side to not remove that information. The nan's do represent 0 since 0 30-shot ralles where found in this data set. We'll put 0's for the nans and see the results and then well remove all enteries with NANs. "
     ]
    },
    {
     "cell_type": "code",
     "collapsed": false,
     "input": [
      "rally_df = rally_df.fillna(0)"
     ],
     "language": "python",
     "metadata": {},
     "outputs": [],
     "prompt_number": 42
    },
    {
     "cell_type": "code",
     "collapsed": false,
     "input": [
      "import seaborn as sns\n",
      "# scatter plot the rally lengths of Men and Women\n",
      "plt.figure(figsize=(10, 8))\n",
      "ax = plt.subplot(111)\n",
      "rally_df.plot(kind = 'scatter', x = 'Men', y = 'Women', ax = ax);\n",
      "ax.set_xlim(0, 4000);\n",
      "ax.set_ylim(0, 4000);"
     ],
     "language": "python",
     "metadata": {},
     "outputs": [
      {
       "metadata": {},
       "output_type": "display_data",
       "png": "[encoded data removed]",
       "text": [
        "<matplotlib.figure.Figure at 0x7f6539d961d0>"
       ]
      }
     ],
     "prompt_number": 44
    },
    {
     "cell_type": "markdown",
     "metadata": {},
     "source": [
      "From the this we can say that ot seems that data the seems to be following a line  so we can argue that the freqencies are the same froom a eyes test perspective."
     ]
    },
    {
     "cell_type": "code",
     "collapsed": false,
     "input": [
      "# total numer of rally lenths collected.\n",
      "len(rally_list_n + wm_rally_list_n)"
     ],
     "language": "python",
     "metadata": {},
     "outputs": [
      {
       "metadata": {},
       "output_type": "pyout",
       "prompt_number": 419,
       "text": [
        "34930"
       ]
      }
     ],
     "prompt_number": 419
    },
    {
     "cell_type": "markdown",
     "metadata": {},
     "source": [
      "The combination the number of rally lengths is 34930. Let's the plot the rally lengths side by side. "
     ]
    },
    {
     "cell_type": "code",
     "collapsed": false,
     "input": [
      "# PLOT RALLY LENGTHS SIDE BY SIDE\n",
      "# global fontsize\n",
      "_fontsize = 15\n",
      "plt.figure(figsize=(10, 8))\n",
      "ax = plt.subplot(111)\n",
      "ax.bar(point, height, alpha = .40, width = .5, color = 'red'\n",
      "       ,align  = 'center', label = 'Men')\n",
      "ax.bar(np.array(wm_point) + .5, wm_height, alpha = .4, \n",
      "       align = 'center', width = .5, color = 'yellow',\n",
      "       label = 'Women')\n",
      "\n",
      "ax.set_xlabel('Rally Length', fontsize = _fontsize)\n",
      "ax.set_xticks(np.array(point) + 0.3)\n",
      "\n",
      "xticksmarks = ax.set_xticklabels(point)\n",
      "plt.setp(xticksmarks, fontsize = 10)\n",
      "ax.set_title('Distribution of Rally Length', fontsize = _fontsize)\n",
      "\n",
      "ax.annotate\n",
      "\n",
      "# remove ticks and borders\n",
      "ax.tick_params(\n",
      "    axis='both',          # changes apply to the both\n",
      "    which='both',         # both major and minor ticks are affected\n",
      "    top='off',            # top and right ticks are removed\n",
      "    right ='off',\n",
      "    left = 'off')\n",
      "ax.spines['top'].set_visible(False)\n",
      "ax.spines['right'].set_visible(False)\n",
      "ax.spines['left'].set_visible(False)\n",
      "\n",
      "# set legend\n",
      "ax.legend(frameon = False, fontsize = _fontsize)\n",
      "plt.grid('on', which = 'major', axis = 'x',  alpha = 0.3)\n",
      "\n",
      "plt.xlim(3.5, 30);\n",
      "plt.savefig('dist_rally_length', dpi = 72)"
     ],
     "language": "python",
     "metadata": {},
     "outputs": [
      {
       "metadata": {},
       "output_type": "display_data",
       "png": "[encoded data removed]",
       "text": [
        "<matplotlib.figure.Figure at 0x7f653a29e1d0>"
       ]
      }
     ],
     "prompt_number": 83
    },
    {
     "cell_type": "markdown",
     "metadata": {},
     "source": [
      "For a parametric test we would have to assume a model for distribution of the rally lengths. It occured to me and probably to you that the data seems to be following a Poisson family of distributions. But the poisson distrbution tells us the probability of a certain number of events inside a *fixed* interval. In this case I would have to repharse my question as: what is the probability of a 6-shot rally in the next 5 minutes given that 4-shot rally in the previous five minutes? Since I don't have data that gives us the time that between rally's this not a question that I think I can handle.\n",
      "\n",
      "But I still would like answers to the questions I asked. I assume I can answer the question of the similarity or lack thereof of the men's and women's rally length using a non-parametric approach. This is what I tried next.\n",
      "\n",
      "The Mann-Whitney U test is a non-parametric test that calculates the difference the distribution by assumming independence of the samples from the groups and that the samples com from the distribution. The statistic (U) that is calculated are based on scoring/ranking the obervation in each sample. I'm not very fimilar with the specifics of the test, I read the the U statistic is approximately normal for samples sizes larger that 20. Read about the test in Mann and Whitney's paper here and at the wiki page. \n",
      "\n",
      "It seems the calculation of the U statistic is not very difficult  but we'll use the scipy implementation (at least) at first. One thing im worried about os the interpedpence of the observations. For instance, given that a 10 -point rally has just occured, the length of the next rally independant of the this event. I Would think that the length of the next rally is not random. Not how this affects the test but again the main inportance is that the samples (men, women rally lengths) are indpendant. \n",
      "\n",
      "We run the Mann-Whitney U test at 0.05 alpha. or .95 significance level."
     ]
    },
    {
     "cell_type": "code",
     "collapsed": false,
     "input": [
      "from scipy.stats import mannwhitneyu"
     ],
     "language": "python",
     "metadata": {},
     "outputs": [],
     "prompt_number": 55
    },
    {
     "cell_type": "code",
     "collapsed": false,
     "input": [
      "u_stat, p_value = mannwhitneyu(rally_df.Men, rally_df.Women)"
     ],
     "language": "python",
     "metadata": {},
     "outputs": [],
     "prompt_number": 56
    },
    {
     "cell_type": "code",
     "collapsed": false,
     "input": [
      "print 'P_value for the MannWhiteyU test is: %0.3f' %p_value"
     ],
     "language": "python",
     "metadata": {},
     "outputs": [
      {
       "output_type": "stream",
       "stream": "stdout",
       "text": [
        "P_value for the MannWhiteyU test is: 0.084\n"
       ]
      }
     ],
     "prompt_number": 60
    },
    {
     "cell_type": "markdown",
     "metadata": {},
     "source": [
      "0.084\n",
      "p-value for the mannwhitney-u test basically says that under the assumptions that the samples come from the same distribution the we hav evidence suggesting that the differnce in the ranks are can be explained using random sampling and as such at a 0.95 level of significance we cannot reject the null assumption. \n",
      "\n",
      "what if we remove the zero's: \n",
      "0.202"
     ]
    },
    {
     "cell_type": "code",
     "collapsed": false,
     "input": [
      "rally_df = rally_df[rally_df.Women != 0]"
     ],
     "language": "python",
     "metadata": {},
     "outputs": [],
     "prompt_number": 73
    },
    {
     "cell_type": "code",
     "collapsed": false,
     "input": [
      "u_stat_no_0, p_value_no_0 = mannwhitneyu(rally_df.Men, rally_df.Women)"
     ],
     "language": "python",
     "metadata": {},
     "outputs": [],
     "prompt_number": 74
    },
    {
     "cell_type": "code",
     "collapsed": false,
     "input": [
      "print 'p_value for Mannwhitney U test at .95 confidence level is: %0.3f' %p_value_no_0"
     ],
     "language": "python",
     "metadata": {},
     "outputs": [
      {
       "output_type": "stream",
       "stream": "stdout",
       "text": [
        "p_value for Mannwhitney U test at .95 confidence level is: 0.202\n"
       ]
      }
     ],
     "prompt_number": 84
    },
    {
     "cell_type": "markdown",
     "metadata": {},
     "source": [
      "This show stronger evidence that the men and womens rally lengths are the same. "
     ]
    },
    {
     "cell_type": "code",
     "collapsed": false,
     "input": [],
     "language": "python",
     "metadata": {},
     "outputs": []
    }
   ],
   "metadata": {}
  }
 ]
}